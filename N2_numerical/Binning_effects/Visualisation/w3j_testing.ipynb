{
 "cells": [
  {
   "cell_type": "code",
   "execution_count": 9,
   "metadata": {},
   "outputs": [],
   "source": [
    "## Testing of w3j calculations and normalisations for binning scheme\n",
    "# Code snippets from Test_binning_w3j.py"
   ]
  },
  {
   "cell_type": "code",
   "execution_count": 10,
   "metadata": {},
   "outputs": [],
   "source": [
    "import numpy as np\n",
    "import sys, os\n",
    "import time\n",
    "from numba import njit\n",
    "sys.path.append('/home/amb257/software/cmplx_cmblensplus/wrap')\n",
    "sys.path.append('/home/amb257/software/cmplx_cmblensplus/utils')\n",
    "import curvedsky as cs\n",
    "import basic\n",
    "import matplotlib.pyplot as plt"
   ]
  },
  {
   "cell_type": "code",
   "execution_count": 11,
   "metadata": {},
   "outputs": [],
   "source": [
    "# Functions to calculate the normalisation factor for a single multipole triplet and for all bins\n",
    "\n",
    "def N(L1, L2, L3):\n",
    "    \"\"\"Compute the normalisation factor for a single triplet L1, L2, L3 used in binned bispec estimator\"\"\"\n",
    "    w3j = basic.wigner_funcs.wigner_3j(L3,L2,0,0)\n",
    "    lower_bound_w3j = np.abs(L3 - L2)\n",
    "    position_L1_in_w3j = L1 - lower_bound_w3j\n",
    "    if L1 >= lower_bound_w3j and np.abs(L1) <= np.abs(L3 + L2):\n",
    "        N = (2*L1+1)*(2*L2+1)*(2*L3+1) * w3j[position_L1_in_w3j]**2 / (4*np.pi)\n",
    "    else:\n",
    "        print(\"L1 out of bounds\")\n",
    "        N = 0\n",
    "    \n",
    "    return N\n",
    "\n",
    "def N_bin(bin_edges, is_it_folded):\n",
    "    \"\"\"Compute the normalisation factor for all bins\"\"\"\n",
    "    size_bin_edges = len(bin_edges)\n",
    "\n",
    "    if is_it_folded == False:\n",
    "        changebins = 1\n",
    "    else:\n",
    "        changebins = 2\n",
    "    \n",
    "    N = np.zeros(size_bin_edges-1)\n",
    "    sum = 0\n",
    "    for index, item in enumerate(bin_edges[0:size_bin_edges-1]):\n",
    "        sum = 0\n",
    "        lower_bound_bin = int(item)\n",
    "        upper_bound_bin = int(bin_edges[index+1])\n",
    "        for l3 in range(int(lower_bound_bin/changebins), int(upper_bound_bin/changebins)):\n",
    "            for l2 in range(int(lower_bound_bin/changebins), int(upper_bound_bin/changebins)):\n",
    "                #First calculate the l bounds of w3j function (allowed l1 values given l2,3)\n",
    "                lower_bound_w3j = np.abs(l3 - l2)\n",
    "                upper_bound_w3j = l3 + l2\n",
    "                #Calculate the w3j's\n",
    "                w3j = basic.wigner_funcs.wigner_3j(l3,l2,0,0)\n",
    "                for l1 in range(lower_bound_bin, upper_bound_bin):\n",
    "                    if l1 >= lower_bound_w3j and l1 <= upper_bound_w3j: \n",
    "                        position_l1_in_w3j = l1 - lower_bound_w3j #this is the position of the current value of l1 in the w3j array\n",
    "                        sum += (2*l1+1)*(2*l2+1)*(2*l3+1) * w3j[position_l1_in_w3j]**2 / (4*np.pi)\n",
    "        N[index] = sum\n",
    "    return N"
   ]
  },
  {
   "cell_type": "code",
   "execution_count": 12,
   "metadata": {},
   "outputs": [
    {
     "name": "stdout",
     "output_type": "stream",
     "text": [
      "Normalisation factor for L1, L2, L3 =  2 2 2 is 0.5684105110424833\n",
      "Normalisation factor for L1, L2, L3 =  30 25 35 is 7.349372735684616\n"
     ]
    }
   ],
   "source": [
    "# Test the normalisation factor for a single multipole triplet\n",
    "L1, L2, L3 = 2, 2, 2\n",
    "print(\"Normalisation factor for L1, L2, L3 = \", L1, L2, L3, \"is\", N(L1, L2, L3))\n",
    "L1, L2, L3 = 30, 25, 35\n",
    "print(\"Normalisation factor for L1, L2, L3 = \", L1, L2, L3, \"is\", N(L1, L2, L3))"
   ]
  },
  {
   "cell_type": "code",
   "execution_count": null,
   "metadata": {},
   "outputs": [
    {
     "name": "stdout",
     "output_type": "stream",
     "text": [
      "Normalisation factors for all bins (equilateral) are [2.96152264e+04 4.74882728e+04 0.00000000e+00 6.59835537e+04\n",
      " 8.45915824e+04 1.85250040e+07 2.96839953e+07 4.12421860e+07\n",
      " 5.28715836e+07 6.45285613e+07 7.61993604e+07 8.78781342e+07\n",
      " 9.95619468e+07 1.11249154e+08]\n"
     ]
    }
   ],
   "source": [
    "# Test the normalisation factor for all bins (equilateral)\n",
    "bin_edges = np.array([20, 40, 60, 80, 100, 200, 300, 400, 500, 600, 700, 800, 900, 1000])\n",
    "is_it_folded = False\n",
    "print(\"Normalisation factors for all bins (equilateral) are\", N_bin(bin_edges, is_it_folded))\n"
   ]
  },
  {
   "cell_type": "code",
   "execution_count": 14,
   "metadata": {},
   "outputs": [],
   "source": [
    "# vectorised function to calculate the normalisation factor for all bins\n",
    "def N_bin_vectorized(bin_edges, is_it_folded):\n",
    "    size_bin_edges = len(bin_edges)\n",
    "    changebins = 2 if is_it_folded else 1\n",
    "    N = np.zeros(size_bin_edges - 1)\n",
    "    \n",
    "    for index in range(size_bin_edges - 1):\n",
    "        lower_bound_bin = int(bin_edges[index])\n",
    "        upper_bound_bin = int(bin_edges[index + 1])\n",
    "        \n",
    "        # Generate arrays of all possible l values in the range\n",
    "        l2_range = np.arange(lower_bound_bin // changebins, upper_bound_bin // changebins)\n",
    "        l3_range = np.arange(lower_bound_bin // changebins, upper_bound_bin // changebins)\n",
    "        l1_range = np.arange(lower_bound_bin, upper_bound_bin)\n",
    "        \n",
    "        # Create factors arrays (2l+1)\n",
    "        l1_factors = 2 * l1_range + 1\n",
    "        l2_factors = 2 * l2_range + 1\n",
    "        l3_factors = 2 * l3_range + 1\n",
    "        \n",
    "        # Initialize bin_sum\n",
    "        bin_sum = 0\n",
    "        \n",
    "        for l3 in l3_range:\n",
    "            for l2 in l2_range:\n",
    "                # Calculate w3j bounds\n",
    "                lower_bound_w3j = abs(l3 - l2)\n",
    "                upper_bound_w3j = l3 + l2\n",
    "                \n",
    "                # Get w3j values\n",
    "                w3j = basic.wigner_funcs.wigner_3j(l3, l2, 0, 0)\n",
    "                \n",
    "                # Get valid l1 values\n",
    "                valid_mask = (l1_range >= lower_bound_w3j) & (l1_range <= upper_bound_w3j)\n",
    "                valid_l1 = l1_range[valid_mask]\n",
    "                \n",
    "                if len(valid_l1) > 0:\n",
    "                    # Calculate positions of l1 values in w3j array\n",
    "                    positions = valid_l1 - lower_bound_w3j\n",
    "                    \n",
    "                    # Get corresponding w3j values and factors\n",
    "                    w3j_values_squared = np.array([w3j[pos]**2 for pos in positions])\n",
    "                    valid_l1_factors = l1_factors[valid_mask]\n",
    "                    \n",
    "                    # Accumulate sum\n",
    "                    bin_sum += np.sum(valid_l1_factors * (2*l2+1) * (2*l3+1) * w3j_values_squared) / (4*np.pi)\n",
    "        \n",
    "        N[index] = bin_sum\n",
    "        \n",
    "    return N"
   ]
  },
  {
   "cell_type": "code",
   "execution_count": 15,
   "metadata": {},
   "outputs": [
    {
     "name": "stdout",
     "output_type": "stream",
     "text": [
      "Normalisation factors for all bins (equilateral) are [2.96152264e+04 4.74882728e+04 6.59835537e+04 8.45915824e+04\n",
      " 1.85250040e+07 2.96839953e+07 4.12421860e+07 5.28715836e+07\n",
      " 6.45285613e+07 7.61993604e+07 8.78781342e+07 9.95619468e+07\n",
      " 1.11249154e+08]\n"
     ]
    }
   ],
   "source": [
    "# Test the normalisation factor for all bins (equilateral)\n",
    "bin_edges = np.array([20, 40, 60, 80, 100, 200, 300, 400, 500, 600, 700, 800, 900, 1000])\n",
    "is_it_folded = False\n",
    "N_bin_result = N_bin_vectorized(bin_edges, is_it_folded)\n",
    "print(\"Normalisation factors for all bins (equilateral) are\", N_bin_result)"
   ]
  },
  {
   "cell_type": "code",
   "execution_count": 16,
   "metadata": {},
   "outputs": [
    {
     "data": {
      "text/plain": [
       "Text(0, 0.5, 'Normalisation factor')"
      ]
     },
     "execution_count": 16,
     "metadata": {},
     "output_type": "execute_result"
    },
    {
     "data": {
      "image/png": "[encoded data removed]",
      "text/plain": [
       "<Figure size 432x288 with 1 Axes>"
      ]
     },
     "metadata": {
      "needs_background": "light"
     },
     "output_type": "display_data"
    }
   ],
   "source": [
    "# Plot the normalisation factor for all bins (equilateral)\n",
    "bin_mid = 0.5 * (bin_edges[1:] + bin_edges[:-1])\n",
    "plt.loglog(bin_mid, N_bin_result, label='Normalisation factor for all bins')\n",
    "plt.legend()\n",
    "plt.xlabel('Bin center')\n",
    "plt.ylabel('Normalisation factor')"
   ]
  },
  {
   "cell_type": "code",
   "execution_count": null,
   "metadata": {},
   "outputs": [],
   "source": []
  }
 ],
 "metadata": {
  "kernelspec": {
   "display_name": "cmplx_fld_lensplus",
   "language": "python",
   "name": "python3"
  },
  "language_info": {
   "codemirror_mode": {
    "name": "ipython",
    "version": 3
   },
   "file_extension": ".py",
   "mimetype": "text/x-python",
   "name": "python",
   "nbconvert_exporter": "python",
   "pygments_lexer": "ipython3",
   "version": "3.6.13"
  }
 },
 "nbformat": 4,
 "nbformat_minor": 2
}
